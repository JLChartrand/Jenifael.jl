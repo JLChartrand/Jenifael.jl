{
 "cells": [
  {
   "cell_type": "code",
   "execution_count": 1,
   "id": "061b6349",
   "metadata": {},
   "outputs": [
    {
     "data": {
      "text/plain": [
       "@public (macro with 1 method)"
      ]
     },
     "execution_count": 1,
     "metadata": {},
     "output_type": "execute_result"
    }
   ],
   "source": [
    "macro public(expr::Expr)\n",
    "    @show expr\n",
    "    return esc(expr)\n",
    "end"
   ]
  },
  {
   "cell_type": "code",
   "execution_count": 3,
   "id": "2a1969bc",
   "metadata": {},
   "outputs": [
    {
     "data": {
      "text/plain": [
       "parseOOStruct (generic function with 1 method)"
      ]
     },
     "execution_count": 3,
     "metadata": {},
     "output_type": "execute_result"
    }
   ],
   "source": [
    "function isafield(expr::Expr)\n",
    "    return (expr.head == :(::))\n",
    "end\n",
    "function parseOOStruct(expr::Expr)\n",
    "    @assert expr.head == :block\n",
    "    n = length(expr.args)\n",
    "    fields = []\n",
    "    methods = Expr[]\n",
    "    for i in 1:2:n\n",
    "        if isafield(expr.args[i+1])\n",
    "            push!(fields, expr.args[i])\n",
    "            push!(fields, expr.args[i + 1])\n",
    "        else\n",
    "            #push!(methods, expr.args[i])\n",
    "            push!(methods, expr.args[i + 1])\n",
    "        end\n",
    "    end\n",
    "    fieldsBlock = Expr(:block, fields...)\n",
    "    return fieldsBlock, methods\n",
    "end"
   ]
  },
  {
   "cell_type": "code",
   "execution_count": 4,
   "id": "86eaa451",
   "metadata": {},
   "outputs": [
    {
     "data": {
      "text/plain": [
       "genMethodsBlock (generic function with 2 methods)"
      ]
     },
     "execution_count": 4,
     "metadata": {},
     "output_type": "execute_result"
    }
   ],
   "source": [
    "function genMethodsBlock(methods::Array{Expr, 1}, prevblock::Expr = Expr(:block, ))\n",
    "    if length(methods) == 0\n",
    "        return prevblock\n",
    "    end\n",
    "    part1 = Expr(:block, prevblock, methods[1])\n",
    "    if length(methods) == 1\n",
    "        return part1\n",
    "    end\n",
    "    return genMethodsBlock(methods[2:end], part1)\n",
    "end"
   ]
  },
  {
   "cell_type": "code",
   "execution_count": 17,
   "id": "afe3642e",
   "metadata": {},
   "outputs": [
    {
     "data": {
      "text/plain": [
       "mygensym (generic function with 1 method)"
      ]
     },
     "execution_count": 17,
     "metadata": {},
     "output_type": "execute_result"
    }
   ],
   "source": [
    "nfuncdefined = 0\n",
    "function mygensym()\n",
    "    global nfuncdefined += 1\n",
    "    return gensym(\"OOFunc\")\n",
    "end\n",
    "    "
   ]
  },
  {
   "cell_type": "code",
   "execution_count": 18,
   "id": "955f405b",
   "metadata": {},
   "outputs": [
    {
     "data": {
      "text/plain": [
       "genhead (generic function with 1 method)"
      ]
     },
     "execution_count": 18,
     "metadata": {},
     "output_type": "execute_result"
    }
   ],
   "source": [
    "function genhead(expr::Expr, typeName::Union{Expr, Symbol})\n",
    "    #@show expr\n",
    "    sym = mygensym()\n",
    "    #@show sym\n",
    "    arg1 = Expr(:(::), :this, typeName)\n",
    "    newExpr = length(expr.args) == 1 ? Expr(:call, sym, arg1) : Expr(:call, sym, arg1, expr.args[2:end]...)\n",
    "    if typeof(typeName) == Expr && typeName.head == :curly && length(typeName.args) > 1\n",
    "        inthatcurl = typeName.args[2:end]\n",
    "        newExpr = Expr(:where, newExpr, inthatcurl...)\n",
    "        #@show newExpr\n",
    "    end\n",
    "    return newExpr, sym\n",
    "end"
   ]
  },
  {
   "cell_type": "code",
   "execution_count": 19,
   "id": "ded83340",
   "metadata": {},
   "outputs": [
    {
     "data": {
      "text/plain": [
       "AddPublicFuncToEnv! (generic function with 1 method)"
      ]
     },
     "execution_count": 19,
     "metadata": {},
     "output_type": "execute_result"
    }
   ],
   "source": [
    "function AddPublicFuncToEnv!(methodBlock::Array{Expr, 1}, env::Dict{Symbol, Symbol}, \n",
    "        typeName::Union{Expr, Symbol})\n",
    "    newmethodBlock = Expr[]\n",
    "    for expr in methodBlock\n",
    "        if expr.head == :macrocall\n",
    "            if expr.args[1] == Symbol(\"@public\")\n",
    "                newHead, sym = genhead(expr.args[3].args[1], typeName)\n",
    "                newExpr = Expr(:function, newHead, expr.args[3].args[2])\n",
    "                push!(newmethodBlock, newExpr)\n",
    "                env[expr.args[3].args[1].args[1]] = sym\n",
    "            else\n",
    "                println(\"expr is not a public func\")\n",
    "                @show expr\n",
    "            end\n",
    "        end\n",
    "    end\n",
    "    return newmethodBlock\n",
    "end"
   ]
  },
  {
   "cell_type": "code",
   "execution_count": 20,
   "id": "94c36617",
   "metadata": {},
   "outputs": [
    {
     "data": {
      "text/plain": [
       "@call (macro with 1 method)"
      ]
     },
     "execution_count": 20,
     "metadata": {},
     "output_type": "execute_result"
    }
   ],
   "source": [
    "\n",
    "env = Dict{Symbol, Symbol}()\n",
    "macro OO(expr::Expr)\n",
    "    #@show expr\n",
    "    typeName = expr.args[2]\n",
    "    fieldsBlock, methodDefined = parseOOStruct(expr.args[3])\n",
    "    newmethodBlock = AddPublicFuncToEnv!(methodDefined, env, typeName)\n",
    "    methodBlock = genMethodsBlock(newmethodBlock)\n",
    "    #@show methodBlock\n",
    "    structExpr = Expr(:struct, expr.args[1], expr.args[2], fieldsBlock)\n",
    "    #@show structExpr\n",
    "    returnedBlock = Expr(:block, structExpr, methodBlock)\n",
    "    #@show returnedBlock\n",
    "    return esc(returnedBlock)\n",
    "end\n",
    "\n",
    "macro call(expr::Expr)\n",
    "    #@show expr\n",
    "    @assert expr.head == :call\n",
    "    initialcall = expr.args[1]\n",
    "    @assert initialcall.head == :. \"macro call received $expr\"\n",
    "    objectName, methodName = expr.args[1].args\n",
    "    methodName = methodName.value\n",
    "    if length(expr.args) == 1\n",
    "        #@show Expr(:call, env[methodName], :this)\n",
    "        return esc(Expr(:call, env[methodName], objectName))\n",
    "    else\n",
    "        #@show Expr(:call, env[methodName], :this, expr.args[2:end]...)\n",
    "        return esc(Expr(:call, env[methodName], objectName, expr.args[2:end]...))\n",
    "    end\n",
    "end"
   ]
  },
  {
   "cell_type": "code",
   "execution_count": 21,
   "id": "a2c9e5a9",
   "metadata": {},
   "outputs": [
    {
     "data": {
      "text/plain": [
       "##OOFunc#294 (generic function with 1 method)"
      ]
     },
     "execution_count": 21,
     "metadata": {},
     "output_type": "execute_result"
    }
   ],
   "source": [
    "@OO mutable struct Node{T}\n",
    "    value::T\n",
    "    next::Union{Nothing, Node{T}}\n",
    "    function Node(value::T) where T\n",
    "        return new{T}(value, nothing)\n",
    "    end\n",
    "    @public function getvalue()\n",
    "        #println(\"-\"^64)\n",
    "        return this.value\n",
    "    end\n",
    "    @public function getnext()\n",
    "        #println(\"*\"^64)\n",
    "        return this.next\n",
    "    end\n",
    "end"
   ]
  },
  {
   "cell_type": "code",
   "execution_count": 22,
   "id": "291e0c88",
   "metadata": {
    "scrolled": true
   },
   "outputs": [
    {
     "data": {
      "text/plain": [
       "Node{Int64}(3, nothing)"
      ]
     },
     "execution_count": 22,
     "metadata": {},
     "output_type": "execute_result"
    }
   ],
   "source": [
    "no = Node{Int}(3, nothing)"
   ]
  },
  {
   "cell_type": "code",
   "execution_count": 23,
   "id": "84659a8a",
   "metadata": {},
   "outputs": [
    {
     "data": {
      "text/plain": [
       "Node{Int64}(4, nothing)"
      ]
     },
     "execution_count": 23,
     "metadata": {},
     "output_type": "execute_result"
    }
   ],
   "source": [
    "@call no.getvalue()\n",
    "no.next = Node{Int}(4, nothing)"
   ]
  },
  {
   "cell_type": "code",
   "execution_count": null,
   "id": "b4158196",
   "metadata": {},
   "outputs": [],
   "source": []
  }
 ],
 "metadata": {
  "kernelspec": {
   "display_name": "Julia 1.7.3",
   "language": "julia",
   "name": "julia-1.7"
  },
  "language_info": {
   "file_extension": ".jl",
   "mimetype": "application/julia",
   "name": "julia",
   "version": "1.7.3"
  }
 },
 "nbformat": 4,
 "nbformat_minor": 5
}
