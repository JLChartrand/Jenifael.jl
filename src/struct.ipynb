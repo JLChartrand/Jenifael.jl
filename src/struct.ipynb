{
 "cells": [
  {
   "cell_type": "code",
   "execution_count": 1,
   "id": "6219042a",
   "metadata": {},
   "outputs": [
    {
     "data": {
      "text/plain": [
       "@showExpr (macro with 1 method)"
      ]
     },
     "execution_count": 1,
     "metadata": {},
     "output_type": "execute_result"
    }
   ],
   "source": [
    "macro showExpr(expr::Expr)\n",
    "    @show expr\n",
    "end"
   ]
  },
  {
   "cell_type": "code",
   "execution_count": 4,
   "id": "ada13dbe",
   "metadata": {},
   "outputs": [
    {
     "name": "stdout",
     "output_type": "stream",
     "text": [
      "expr = :(function f(x::Int)\n",
      "      #= In[4]:1 =#\n",
      "      #= In[4]:2 =#\n",
      "      return x + 3\n",
      "  end)\n"
     ]
    },
    {
     "data": {
      "text/plain": [
       "f (generic function with 1 method)"
      ]
     },
     "execution_count": 4,
     "metadata": {},
     "output_type": "execute_result"
    }
   ],
   "source": [
    "@showExpr function f(x::Int)\n",
    "    return x + 3\n",
    "end"
   ]
  },
  {
   "cell_type": "code",
   "execution_count": 5,
   "id": "3df8fc64",
   "metadata": {},
   "outputs": [
    {
     "data": {
      "text/plain": [
       ":(function f(x::Int)\n",
       "      \u001b[90m#= In[5]:1 =#\u001b[39m\n",
       "      \u001b[90m#= In[5]:4 =#\u001b[39m\n",
       "      return x + 3\n",
       "  end)"
      ]
     },
     "execution_count": 5,
     "metadata": {},
     "output_type": "execute_result"
    }
   ],
   "source": [
    "expr = :(function f(x::Int)\n",
    "      #= In[2]:1 =#\n",
    "      #= In[2]:2 =#\n",
    "      return x + 3\n",
    "  end)"
   ]
  },
  {
   "cell_type": "code",
   "execution_count": 7,
   "id": "29e48a69",
   "metadata": {},
   "outputs": [
    {
     "data": {
      "text/plain": [
       "2-element Vector{Any}:\n",
       " :(f(x::Int))\n",
       " quote\n",
       "    \u001b[90m#= In[5]:1 =#\u001b[39m\n",
       "    \u001b[90m#= In[5]:4 =#\u001b[39m\n",
       "    return x + 3\n",
       "end"
      ]
     },
     "execution_count": 7,
     "metadata": {},
     "output_type": "execute_result"
    }
   ],
   "source": [
    "expr.args"
   ]
  },
  {
   "cell_type": "code",
   "execution_count": null,
   "id": "262e4764",
   "metadata": {},
   "outputs": [],
   "source": [
    "struct PublicFuncs\n",
    "    name::Symbol\n",
    "    propagatedNameSpaceName::Symbol\n",
    "    args::Expr\n",
    "    body::Expr\n",
    "    function PublicFuncs(expr::Expr)\n",
    "        \n",
    "end"
   ]
  },
  {
   "cell_type": "code",
   "execution_count": null,
   "id": "3cdae090",
   "metadata": {},
   "outputs": [],
   "source": [
    "struct PrivateFuncs\n",
    "    name::Symbol\n",
    "    propagatedNameSpaceName::Symbol\n",
    "    args::Expr\n",
    "    body::Expr\n",
    "end"
   ]
  },
  {
   "cell_type": "code",
   "execution_count": null,
   "id": "31322aae",
   "metadata": {},
   "outputs": [],
   "source": [
    "struct OODict\n",
    "    privateFuncs::Dict{Symbol, PrivateFuncs}\n",
    "    publicFuncs::Dict{Symbol, PrivateFuncs}\n",
    "end"
   ]
  },
  {
   "cell_type": "code",
   "execution_count": null,
   "id": "62a37ead",
   "metadata": {},
   "outputs": [],
   "source": []
  }
 ],
 "metadata": {
  "kernelspec": {
   "display_name": "Julia 1.7.3",
   "language": "julia",
   "name": "julia-1.7"
  },
  "language_info": {
   "file_extension": ".jl",
   "mimetype": "application/julia",
   "name": "julia",
   "version": "1.7.3"
  }
 },
 "nbformat": 4,
 "nbformat_minor": 5
}
