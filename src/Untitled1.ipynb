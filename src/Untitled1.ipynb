{
 "cells": [
  {
   "cell_type": "code",
   "execution_count": 21,
   "id": "638cb7a2",
   "metadata": {},
   "outputs": [
    {
     "data": {
      "text/plain": [
       "@showExpr (macro with 1 method)"
      ]
     },
     "execution_count": 21,
     "metadata": {},
     "output_type": "execute_result"
    }
   ],
   "source": [
    "privateFuncs = []\n",
    "macro replaceFuncCallByLet(expr::Expr)\n",
    "    @assert expr.head == :call\n",
    "    \n",
    "    letExpr = Expr(:let, letArgs, bodyfunc)\n",
    "    return esc(letExpr)\n",
    "end\n",
    "\n",
    "macro private(expr::Expr)\n",
    "    @show expr\n",
    "    push!(privateFuncs, expr)\n",
    "    return expr\n",
    "end\n",
    "macro showExpr(expr::Expr)\n",
    "    @show expr\n",
    "    return 1\n",
    "end"
   ]
  },
  {
   "cell_type": "code",
   "execution_count": 22,
   "id": "ce766010",
   "metadata": {},
   "outputs": [
    {
     "name": "stdout",
     "output_type": "stream",
     "text": [
      "expr = :(function test(k::Int)\n",
      "      #= In[22]:1 =#\n",
      "      #= In[22]:2 =#\n",
      "      if k % 5 == 1\n",
      "          #= In[22]:3 =#\n",
      "          return k\n",
      "      else\n",
      "          #= In[22]:5 =#\n",
      "          return k - 1\n",
      "      end\n",
      "  end)\n"
     ]
    },
    {
     "data": {
      "text/plain": [
       "test (generic function with 1 method)"
      ]
     },
     "execution_count": 22,
     "metadata": {},
     "output_type": "execute_result"
    }
   ],
   "source": [
    "@private function test(k::Int)\n",
    "    if k % 5 == 1\n",
    "        return k\n",
    "    else\n",
    "        return k-1\n",
    "    end\n",
    "end"
   ]
  },
  {
   "cell_type": "code",
   "execution_count": 23,
   "id": "609ce8a0",
   "metadata": {},
   "outputs": [
    {
     "name": "stdout",
     "output_type": "stream",
     "text": [
      "expr = :(let k = 3, x = 4\n",
      "      #= In[23]:2 =#\n",
      "      if k % 5 == 1\n",
      "          #= In[23]:3 =#\n",
      "          return k\n",
      "      else\n",
      "          #= In[23]:5 =#\n",
      "          return k + 1\n",
      "      end\n",
      "  end)\n"
     ]
    },
    {
     "data": {
      "text/plain": [
       "1"
      ]
     },
     "execution_count": 23,
     "metadata": {},
     "output_type": "execute_result"
    }
   ],
   "source": [
    "@showExpr let k = 3, x = 4\n",
    "    if k % 5 == 1\n",
    "        return k\n",
    "    else\n",
    "        return k+1\n",
    "    end\n",
    "end"
   ]
  },
  {
   "cell_type": "code",
   "execution_count": 24,
   "id": "9afe8a3b",
   "metadata": {},
   "outputs": [
    {
     "data": {
      "text/plain": [
       ":(let k = 3, x = 4\n",
       "      \u001b[90m#= In[24]:3 =#\u001b[39m\n",
       "      if k % 5 == 1\n",
       "          \u001b[90m#= In[24]:5 =#\u001b[39m\n",
       "          return k\n",
       "      else\n",
       "          \u001b[90m#= In[24]:8 =#\u001b[39m\n",
       "          return k + 1\n",
       "      end\n",
       "  end)"
      ]
     },
     "execution_count": 24,
     "metadata": {},
     "output_type": "execute_result"
    }
   ],
   "source": [
    "expr = :(let k = 3, x = 4\n",
    "      #= In[11]:2 =#\n",
    "      if k % 5 == 1\n",
    "          #= In[11]:3 =#\n",
    "          return k\n",
    "      else\n",
    "          #= In[11]:5 =#\n",
    "          return k + 1\n",
    "      end\n",
    "  end)"
   ]
  },
  {
   "cell_type": "code",
   "execution_count": 25,
   "id": "6b8c7bdc",
   "metadata": {},
   "outputs": [
    {
     "data": {
      "text/plain": [
       "quote\n",
       "    k = 3\n",
       "    x = 4\n",
       "end"
      ]
     },
     "execution_count": 25,
     "metadata": {},
     "output_type": "execute_result"
    }
   ],
   "source": [
    "expr.args[1]"
   ]
  },
  {
   "cell_type": "code",
   "execution_count": 34,
   "id": "2df0bfd7",
   "metadata": {},
   "outputs": [
    {
     "name": "stdout",
     "output_type": "stream",
     "text": [
      "expr = :(obj.method(3, x = 3))\n"
     ]
    },
    {
     "data": {
      "text/plain": [
       "1"
      ]
     },
     "execution_count": 34,
     "metadata": {},
     "output_type": "execute_result"
    }
   ],
   "source": []
  },
  {
   "cell_type": "code",
   "execution_count": 35,
   "id": "25ab33c2",
   "metadata": {},
   "outputs": [
    {
     "name": "stdout",
     "output_type": "stream",
     "text": [
      "expr = :(obj.method(3, x = 5))\n"
     ]
    },
    {
     "data": {
      "text/plain": [
       "1"
      ]
     },
     "execution_count": 35,
     "metadata": {},
     "output_type": "execute_result"
    }
   ],
   "source": [
    "@showExpr obj.method(3, x = 5)"
   ]
  },
  {
   "cell_type": "code",
   "execution_count": 36,
   "id": "510ed30c",
   "metadata": {},
   "outputs": [
    {
     "data": {
      "text/plain": [
       ":(obj.method(3, x = 5))"
      ]
     },
     "execution_count": 36,
     "metadata": {},
     "output_type": "execute_result"
    }
   ],
   "source": [
    "expr = :(obj.method(3, x = 5))"
   ]
  },
  {
   "cell_type": "code",
   "execution_count": 38,
   "id": "0cb2081d",
   "metadata": {},
   "outputs": [
    {
     "data": {
      "text/plain": [
       "3-element Vector{Any}:\n",
       "  :(obj.method)\n",
       " 3\n",
       "  :($(Expr(:kw, :x, 5)))"
      ]
     },
     "execution_count": 38,
     "metadata": {},
     "output_type": "execute_result"
    }
   ],
   "source": [
    "expr.args"
   ]
  },
  {
   "cell_type": "code",
   "execution_count": null,
   "id": "1d9bac30",
   "metadata": {},
   "outputs": [],
   "source": []
  }
 ],
 "metadata": {
  "kernelspec": {
   "display_name": "Julia 1.7.3",
   "language": "julia",
   "name": "julia-1.7"
  },
  "language_info": {
   "file_extension": ".jl",
   "mimetype": "application/julia",
   "name": "julia",
   "version": "1.7.3"
  }
 },
 "nbformat": 4,
 "nbformat_minor": 5
}
